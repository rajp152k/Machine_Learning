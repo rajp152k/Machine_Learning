{
  "nbformat": 4,
  "nbformat_minor": 0,
  "metadata": {
    "colab": {
      "name": "pracFMNIST2.ipynb",
      "provenance": [],
      "collapsed_sections": []
    },
    "kernelspec": {
      "name": "python3",
      "display_name": "Python 3"
    }
  },
  "cells": [
    {
      "cell_type": "code",
      "metadata": {
        "id": "KO4B2FSf3GZl",
        "colab_type": "code",
        "colab": {}
      },
      "source": [
        "import torch\n",
        "import torch.nn as nn\n",
        "import torch.nn.functional as F\n",
        "import torch.optim as optim\n",
        "\n",
        "import torchvision\n",
        "import torchvision.transforms as transforms\n",
        "\n",
        "from torch.utils.tensorboard import SummaryWriter"
      ],
      "execution_count": 0,
      "outputs": []
    },
    {
      "cell_type": "code",
      "metadata": {
        "id": "Wg3TeFO-3jHn",
        "colab_type": "code",
        "outputId": "c486a77c-0dda-41bf-a8d7-29bdcc868f7c",
        "colab": {
          "base_uri": "https://localhost:8080/",
          "height": 55
        }
      },
      "source": [
        "print(torch.__version__)\n",
        "print(torchvision.__version__)"
      ],
      "execution_count": 48,
      "outputs": [
        {
          "output_type": "stream",
          "text": [
            "1.3.0+cu100\n",
            "0.4.1+cu100\n"
          ],
          "name": "stdout"
        }
      ]
    },
    {
      "cell_type": "code",
      "metadata": {
        "id": "DV4tu36W3tme",
        "colab_type": "code",
        "colab": {}
      },
      "source": [
        "def get_num_correct(preds,labels):\n",
        "    return preds.argmax(dim=1).eq(labels).sum().item()"
      ],
      "execution_count": 0,
      "outputs": []
    },
    {
      "cell_type": "code",
      "metadata": {
        "id": "4Wo9CS7u37rK",
        "colab_type": "code",
        "colab": {}
      },
      "source": [
        "class Network(nn.Module):\n",
        "    def __init__(self):\n",
        "        super().__init__()\n",
        "        self.conv1 = nn.Conv2d(1,6,5)\n",
        "        self.conv2 = nn.Conv2d(6,12,5)\n",
        "\n",
        "        self.fc1 = nn.Linear(12*4*4,120)\n",
        "        self.fc2 = nn.Linear(120,60)\n",
        "        self.out = nn.Linear(60,10)\n",
        "\n",
        "    def forward(self,t):\n",
        "        t = F.relu(self.conv1(t))\n",
        "        t = F.max_pool2d(t,kernel_size=2,stride=2)\n",
        "        \n",
        "        t = F.relu(self.conv2(t))\n",
        "        t = F.max_pool2d(t,kernel_size=2,stride=2)\n",
        "\n",
        "        t = t.flatten(start_dim=1)\n",
        "        t = F.relu(self.fc1(t))\n",
        "\n",
        "        t = F.relu(self.fc2(t))\n",
        "\n",
        "        t = self.out(t)\n",
        "\n",
        "        return t"
      ],
      "execution_count": 0,
      "outputs": []
    },
    {
      "cell_type": "code",
      "metadata": {
        "id": "tX1Dd2El4g00",
        "colab_type": "code",
        "colab": {}
      },
      "source": [
        "train_set = torchvision.datasets.FashionMNIST(\n",
        "    root = \"./data\",\n",
        "    train=True,\n",
        "    download=True,\n",
        "    transform=transforms.Compose(\n",
        "        [transforms.ToTensor()]\n",
        "    )\n",
        ")"
      ],
      "execution_count": 0,
      "outputs": []
    },
    {
      "cell_type": "code",
      "metadata": {
        "id": "iGhHqg0O5o8J",
        "colab_type": "code",
        "colab": {}
      },
      "source": [
        "train_loader = torch.utils.data.DataLoader(train_set,batch_size=100,shuffle=True)"
      ],
      "execution_count": 0,
      "outputs": []
    },
    {
      "cell_type": "markdown",
      "metadata": {
        "id": "mDoAiqu3523y",
        "colab_type": "text"
      },
      "source": [
        "Using tensorboard for network graph and images"
      ]
    },
    {
      "cell_type": "code",
      "metadata": {
        "id": "XbWKjldV59fE",
        "colab_type": "code",
        "colab": {}
      },
      "source": [
        "tb = SummaryWriter()\n",
        "\n",
        "network = Network()\n",
        "images,labels = next(iter(train_loader))\n",
        "grid = torchvision.utils.make_grid(images)\n",
        "\n",
        "tb.add_image('images',grid)\n",
        "tb.add_graph(network,images)\n",
        "tb.close()"
      ],
      "execution_count": 0,
      "outputs": []
    },
    {
      "cell_type": "markdown",
      "metadata": {
        "id": "tcs-oeYbF3rp",
        "colab_type": "text"
      },
      "source": [
        "NOTE: storing the SummaryWriter outputs files on my local system to use a local host.<br>\n",
        "saved on github as well.<br>\n",
        "ngrok not working<br>\n"
      ]
    },
    {
      "cell_type": "code",
      "metadata": {
        "id": "Ju0FlKt5NFuY",
        "colab_type": "code",
        "colab": {}
      },
      "source": [
        "# use !zip -r <zipped file> <directory being zipped>"
      ],
      "execution_count": 0,
      "outputs": []
    },
    {
      "cell_type": "markdown",
      "metadata": {
        "id": "5oRpnIySNSGn",
        "colab_type": "text"
      },
      "source": [
        "The training loop review"
      ]
    },
    {
      "cell_type": "code",
      "metadata": {
        "id": "-K_q6jtYNqFu",
        "colab_type": "code",
        "colab": {
          "base_uri": "https://localhost:8080/",
          "height": 75
        },
        "outputId": "7e13ca4a-8848-4dcd-b20e-0a8608f01e65"
      },
      "source": [
        "network = Network()\n",
        "train_loader = torch.utils.data.DataLoader(train_set,batch_size=100,shuffle=True)\n",
        "optimizer = optim.Adam(network.parameters(),lr=0.01)\n",
        "\n",
        "for epoch in range(1):\n",
        "    total_loss = 0\n",
        "    total_correct = 0\n",
        "\n",
        "    for batch in train_loader:\n",
        "        images,labels = batch\n",
        "        \n",
        "        preds = network(images)\n",
        "        loss = F.cross_entropy(preds,labels)\n",
        "\n",
        "        optimizer.zero_grad()\n",
        "        loss.backward()\n",
        "        optimizer.step()\n",
        "\n",
        "        total_loss += loss.item()\n",
        "        total_correct += get_num_correct(preds,labels)\n",
        "\n",
        "    print(\"epoch\", epoch,'\\n', \"total_correct:\",total_correct,'\\n',\"loss:\",total_loss)\n"
      ],
      "execution_count": 72,
      "outputs": [
        {
          "output_type": "stream",
          "text": [
            "epoch 0 \n",
            " total_correct: 46327 \n",
            " loss: 362.071481525898\n"
          ],
          "name": "stdout"
        }
      ]
    },
    {
      "cell_type": "markdown",
      "metadata": {
        "id": "Aj6G1tWAPWZv",
        "colab_type": "text"
      },
      "source": [
        "now including tensorboard calls in between to get data for analysis"
      ]
    },
    {
      "cell_type": "code",
      "metadata": {
        "id": "UyeRFl4yQKQy",
        "colab_type": "code",
        "colab": {}
      },
      "source": [
        "!rm -r runs"
      ],
      "execution_count": 0,
      "outputs": []
    },
    {
      "cell_type": "code",
      "metadata": {
        "id": "UGD9l4WRPnST",
        "colab_type": "code",
        "colab": {
          "base_uri": "https://localhost:8080/",
          "height": 75
        },
        "outputId": "345643c5-c2d6-42a7-9213-8c05e90b36fc"
      },
      "source": [
        "network = Network()\n",
        "train_loader = torch.utils.data.DataLoader(train_set,batch_size=100,shuffle=True)\n",
        "optimizer = optim.Adam(network.parameters(),lr=0.01)\n",
        "\n",
        "images,labels = next(iter(train_loader))\n",
        "grid = torchvision.utils.make_grid(images)\n",
        "\n",
        "tb = SummaryWriter()\n",
        "tb.add_image('images',grid)\n",
        "tb.add_graph(network,images)\n",
        "\n",
        "for epoch in range(1):\n",
        "    total_loss = 0\n",
        "    total_correct = 0\n",
        "\n",
        "    for batch in train_loader: # getting batch\n",
        "        images,labels = batch # separating images and labels\n",
        "        \n",
        "        preds = network(images) \n",
        "        loss = F.cross_entropy(preds,labels) #calculating loss\n",
        "\n",
        "        optimizer.zero_grad() \n",
        "        loss.backward()  # calculating gradients\n",
        "        optimizer.step() # updating weights\n",
        "\n",
        "        tb.add_scalar('Loss',loss,epoch)\n",
        "        tb.add_scalar('Number correct',total_correct,epoch)\n",
        "        tb.add_scalar('Accuracy',total_correct/len(train_set),epoch)\n",
        "\n",
        "        tb.add_histogram('conv1.bias',network.conv1.bias,epoch)\n",
        "        tb.add_histogram('conv1.weight',network.conv1.weight,epoch)\n",
        "        tb.add_histogram('conv1.weight.grad',network.conv1.weight.grad,epoch)\n",
        "\n",
        "        total_loss += loss.item()\n",
        "        total_correct += get_num_correct(preds,labels)\n",
        "\n",
        "    print(\"epoch\", epoch,'\\n', \"total_correct:\",total_correct,'\\n',\"loss:\",total_loss)\n",
        "\n",
        "tb.close()"
      ],
      "execution_count": 74,
      "outputs": [
        {
          "output_type": "stream",
          "text": [
            "epoch 0 \n",
            " total_correct: 47308 \n",
            " loss: 339.0733009278774\n"
          ],
          "name": "stdout"
        }
      ]
    },
    {
      "cell_type": "code",
      "metadata": {
        "id": "1ZvWEnDXRmkQ",
        "colab_type": "code",
        "colab": {
          "base_uri": "https://localhost:8080/",
          "height": 95
        },
        "outputId": "9d0c573a-4a19-4595-97b4-424304479088"
      },
      "source": [
        "!zip -r runs_0 ./runs"
      ],
      "execution_count": 76,
      "outputs": [
        {
          "output_type": "stream",
          "text": [
            "  adding: runs/ (stored 0%)\n",
            "  adding: runs/Oct28_16-50-13_9f396b488efb/ (stored 0%)\n",
            "  adding: runs/Oct28_16-50-13_9f396b488efb/events.out.tfevents.1572281413.9f396b488efb.131.5 (deflated 97%)\n"
          ],
          "name": "stdout"
        }
      ]
    },
    {
      "cell_type": "code",
      "metadata": {
        "id": "wjM_d1PFR0Cs",
        "colab_type": "code",
        "colab": {}
      },
      "source": [
        ""
      ],
      "execution_count": 0,
      "outputs": []
    }
  ]
}