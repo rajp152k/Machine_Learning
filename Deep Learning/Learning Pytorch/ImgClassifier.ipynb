{
  "nbformat": 4,
  "nbformat_minor": 0,
  "metadata": {
    "colab": {
      "name": "ImgClassifier.ipynb",
      "version": "0.3.2",
      "provenance": [],
      "include_colab_link": true
    },
    "kernelspec": {
      "name": "python3",
      "display_name": "Python 3"
    },
    "accelerator": "GPU"
  },
  "cells": [
    {
      "cell_type": "markdown",
      "metadata": {
        "id": "view-in-github",
        "colab_type": "text"
      },
      "source": [
        "<a href=\"https://colab.research.google.com/github/rajp152k/Machine_Learning/blob/master/Deep%20Learning/Learning%20Pytorch/ImgClassifier.ipynb\" target=\"_parent\"><img src=\"https://colab.research.google.com/assets/colab-badge.svg\" alt=\"Open In Colab\"/></a>"
      ]
    },
    {
      "cell_type": "markdown",
      "metadata": {
        "id": "Y5TPqleTk-2H",
        "colab_type": "text"
      },
      "source": [
        "### using the CIFAR10 dataset"
      ]
    },
    {
      "cell_type": "markdown",
      "metadata": {
        "id": "4jNIbHsmlzsV",
        "colab_type": "text"
      },
      "source": [
        "loading and normalizing the dataset"
      ]
    },
    {
      "cell_type": "code",
      "metadata": {
        "id": "NXUxFCECl4HV",
        "colab_type": "code",
        "colab": {}
      },
      "source": [
        "import torch\n",
        "import torchvision\n",
        "import torchvision.transforms as transforms"
      ],
      "execution_count": 0,
      "outputs": []
    },
    {
      "cell_type": "markdown",
      "metadata": {
        "id": "Czrpuse-mDqc",
        "colab_type": "text"
      },
      "source": [
        "creating a transformation sequence to be applied on the dataset"
      ]
    },
    {
      "cell_type": "code",
      "metadata": {
        "id": "jT1pgtMym13a",
        "colab_type": "code",
        "colab": {}
      },
      "source": [
        "transformation_sequence = [transforms.ToTensor(),\n",
        "                            transforms.Normalize(mean = [0.5,0.5,0.5],\n",
        "                                                std = [0.5,0.5,0.5])]\n",
        "\n",
        "transform  = transforms.Compose(transformation_sequence)"
      ],
      "execution_count": 0,
      "outputs": []
    },
    {
      "cell_type": "markdown",
      "metadata": {
        "id": "OMwqOBo4p7zB",
        "colab_type": "text"
      },
      "source": [
        "getting the dataset "
      ]
    },
    {
      "cell_type": "code",
      "metadata": {
        "id": "kG_Q95U-oSq6",
        "colab_type": "code",
        "colab": {
          "base_uri": "https://localhost:8080/",
          "height": 56
        },
        "outputId": "0bdf7984-2875-47f0-f90f-efbe2b04e13a"
      },
      "source": [
        "trainset = torchvision.datasets.CIFAR10(root='./data',train=True,\n",
        "                                       download=True,transform=transform)\n",
        "\n",
        "trainloader = torch.utils.data.DataLoader(trainset,batch_size=4,shuffle=True\n",
        "                                         ,num_workers=2)\n",
        "\n",
        "testset = torchvision.datasets.CIFAR10(root='./data',train=False,\n",
        "                                       download=True,transform=transform)\n",
        "\n",
        "testloader = torch.utils.data.DataLoader(testset,batch_size=4,shuffle=False\n",
        "                                        ,num_workers=2)\n",
        "\n",
        "classes = ('plane', 'car', 'bird', 'cat',\n",
        "           'deer', 'dog', 'frog', 'horse', 'ship', 'truck')"
      ],
      "execution_count": 3,
      "outputs": [
        {
          "output_type": "stream",
          "text": [
            "Files already downloaded and verified\n",
            "Files already downloaded and verified\n"
          ],
          "name": "stdout"
        }
      ]
    },
    {
      "cell_type": "markdown",
      "metadata": {
        "id": "ybqHR7gdqGNT",
        "colab_type": "text"
      },
      "source": [
        "checking some of the images in the dataset"
      ]
    },
    {
      "cell_type": "code",
      "metadata": {
        "id": "fQNWVZc9sk1A",
        "colab_type": "code",
        "colab": {
          "base_uri": "https://localhost:8080/",
          "height": 158
        },
        "outputId": "f8c731f4-b36c-495f-cd61-c7bddf0a2c36"
      },
      "source": [
        "import matplotlib.pyplot as plt\n",
        "import numpy as np\n",
        "\n",
        "def imshow(img):\n",
        "    img = img/2 +0.5 #denormalizing\n",
        "    npimg = img.numpy()\n",
        "    plt.imshow(np.transpose(npimg,(1,2,0)))\n",
        "    plt.show()\n",
        "    \n",
        "# collecting some images\n",
        "dataiter = iter(trainloader)\n",
        "images,labels = dataiter.next()\n",
        "\n",
        "# showing them\n",
        "imshow(torchvision.utils.make_grid(images))\n",
        "\n",
        "print(' '.join('%5s' % classes[labels[j]]for j in range(4)))"
      ],
      "execution_count": 4,
      "outputs": [
        {
          "output_type": "display_data",
          "data": {
            "image/png": "[encoded data removed]",
            "text/plain": [
              "<Figure size 432x288 with 1 Axes>"
            ]
          },
          "metadata": {
            "tags": []
          }
        },
        {
          "output_type": "stream",
          "text": [
            "  car  bird plane   dog\n"
          ],
          "name": "stdout"
        }
      ]
    },
    {
      "cell_type": "markdown",
      "metadata": {
        "id": "z1kM4VkJwh2Y",
        "colab_type": "text"
      },
      "source": [
        "### size of input image"
      ]
    },
    {
      "cell_type": "code",
      "metadata": {
        "id": "cZeL0MJIwRTH",
        "colab_type": "code",
        "colab": {
          "base_uri": "https://localhost:8080/",
          "height": 36
        },
        "outputId": "ff5650e4-5808-4f81-d47e-db0cb23110d1"
      },
      "source": [
        "images[0][0].size()"
      ],
      "execution_count": 5,
      "outputs": [
        {
          "output_type": "execute_result",
          "data": {
            "text/plain": [
              "torch.Size([32, 32])"
            ]
          },
          "metadata": {
            "tags": []
          },
          "execution_count": 5
        }
      ]
    },
    {
      "cell_type": "markdown",
      "metadata": {
        "id": "n6ml2ywysr8D",
        "colab_type": "text"
      },
      "source": [
        "### defining the net now"
      ]
    },
    {
      "cell_type": "code",
      "metadata": {
        "id": "EHorty3dt4Q-",
        "colab_type": "code",
        "colab": {}
      },
      "source": [
        "import torch.nn as nn\n",
        "import torch.nn.functional as F"
      ],
      "execution_count": 0,
      "outputs": []
    },
    {
      "cell_type": "code",
      "metadata": {
        "id": "mwm4RDOet-n1",
        "colab_type": "code",
        "colab": {}
      },
      "source": [
        "class Net(nn.Module):\n",
        "    def __init__(self):\n",
        "        super(Net,self).__init__()\n",
        "        \n",
        "        self.conv1 = nn.Conv2d(3,6,5)\n",
        "        self.pool = nn.MaxPool2d(2,2)\n",
        "        self.conv2 = nn.Conv2d(6,16,5)\n",
        "        self.fc1 = nn.Linear(16*5*5,120)\n",
        "        self.fc2 = nn.Linear(120,84)\n",
        "        self.fc3 = nn.Linear(84,10)\n",
        "        \n",
        "    def forward(self,x):\n",
        "              \n",
        "        x = self.pool(F.relu(self.conv1(x)))\n",
        "        x = self.pool(F.relu(self.conv2(x)))\n",
        "        x = x.view(-1,16*5*5)\n",
        "        x = F.relu(self.fc1(x))\n",
        "        x = F.relu(self.fc2(x))\n",
        "        x = self.fc3(x)\n",
        "        \n",
        "        return x\n",
        "        "
      ],
      "execution_count": 0,
      "outputs": []
    },
    {
      "cell_type": "code",
      "metadata": {
        "id": "qX49mqYHuBW1",
        "colab_type": "code",
        "colab": {}
      },
      "source": [
        "net = Net()"
      ],
      "execution_count": 0,
      "outputs": []
    },
    {
      "cell_type": "markdown",
      "metadata": {
        "id": "YrxKw-ysy1wL",
        "colab_type": "text"
      },
      "source": [
        "### Defining loss function and optimizer"
      ]
    },
    {
      "cell_type": "code",
      "metadata": {
        "id": "yg0NEmsYy7wd",
        "colab_type": "code",
        "colab": {}
      },
      "source": [
        "import torch.optim as optim\n",
        "\n",
        "criterion = nn.CrossEntropyLoss() #cross entropy performs \n",
        "                                  #better for classification than MSE \n",
        "\n",
        "optimizer  = optim.SGD(params = net.parameters(),lr = 0.001,momentum = 0.9)\n"
      ],
      "execution_count": 0,
      "outputs": []
    },
    {
      "cell_type": "markdown",
      "metadata": {
        "id": "Qx-6BZobzNFR",
        "colab_type": "text"
      },
      "source": [
        " ## *Read about Nesterov Momentum*\n",
        " before advancing"
      ]
    },
    {
      "cell_type": "markdown",
      "metadata": {
        "id": "8wIgtJvXznP8",
        "colab_type": "text"
      },
      "source": [
        "Training the network"
      ]
    },
    {
      "cell_type": "code",
      "metadata": {
        "id": "WCsFh5B30Hri",
        "colab_type": "code",
        "colab": {
          "base_uri": "https://localhost:8080/",
          "height": 269
        },
        "outputId": "0f636fab-f6fd-4264-df6e-68936be0ded6"
      },
      "source": [
        "for epoch in range(2):\n",
        "    \n",
        "    running_loss = 0.0\n",
        "    for i,data in enumerate(trainloader,0):\n",
        "        \n",
        "        inputs,labels = data\n",
        "        \n",
        "        optimizer.zero_grad() #nullifying gradient buffers\n",
        "        \n",
        "        outputs = net(inputs)\n",
        "        \n",
        "        loss = criterion(outputs,labels) #computing loss\n",
        "        \n",
        "        loss.backward() # back propogation (only storing gradients now)\n",
        "        \n",
        "        optimizer.step() # back propogation completion (updating the weights)\n",
        "        \n",
        "        #printing live statistics\n",
        "        \n",
        "        running_loss += loss.item()\n",
        "        \n",
        "        if i%2000 == 1999:\n",
        "            print('[%d, %5d] loss: %.3f' %\n",
        "                  (epoch + 1, i + 1, running_loss / 2000))\n",
        "            running_loss = 0.0\n",
        "            \n",
        "print(\"NET TRAINED\")"
      ],
      "execution_count": 14,
      "outputs": [
        {
          "output_type": "stream",
          "text": [
            "[1,  2000] loss: 2.172\n",
            "[1,  4000] loss: 1.838\n",
            "[1,  6000] loss: 1.636\n",
            "[1,  8000] loss: 1.556\n",
            "[1, 10000] loss: 1.510\n",
            "[1, 12000] loss: 1.460\n",
            "[2,  2000] loss: 1.408\n",
            "[2,  4000] loss: 1.361\n",
            "[2,  6000] loss: 1.355\n",
            "[2,  8000] loss: 1.309\n",
            "[2, 10000] loss: 1.297\n",
            "[2, 12000] loss: 1.281\n",
            "NET TRAINED\n"
          ],
          "name": "stdout"
        }
      ]
    },
    {
      "cell_type": "markdown",
      "metadata": {
        "id": "_eptuGhA0Jl-",
        "colab_type": "text"
      },
      "source": [
        "### testing the network"
      ]
    },
    {
      "cell_type": "code",
      "metadata": {
        "id": "KZeoeqx162W0",
        "colab_type": "code",
        "colab": {}
      },
      "source": [
        "checking some images from the test set first"
      ],
      "execution_count": 0,
      "outputs": []
    },
    {
      "cell_type": "code",
      "metadata": {
        "id": "3R4PSftH6tAv",
        "colab_type": "code",
        "colab": {
          "base_uri": "https://localhost:8080/",
          "height": 158
        },
        "outputId": "947efa30-3728-4add-c1e8-16aefe97524d"
      },
      "source": [
        "dataiter = iter(testloader)\n",
        "images,labels = dataiter.next()\n",
        "\n",
        "imshow(torchvision.utils.make_grid(images))\n",
        "print('GroundTruth: ',' '.join('%5s' % classes[labels[j]] for j in range(4)))\n"
      ],
      "execution_count": 18,
      "outputs": [
        {
          "output_type": "display_data",
          "data": {
            "image/png": "[encoded data removed]",
            "text/plain": [
              "<Figure size 432x288 with 1 Axes>"
            ]
          },
          "metadata": {
            "tags": []
          }
        },
        {
          "output_type": "stream",
          "text": [
            "GroundTruth:    cat  ship  ship plane\n"
          ],
          "name": "stdout"
        }
      ]
    },
    {
      "cell_type": "markdown",
      "metadata": {
        "id": "f8aHyaVk944b",
        "colab_type": "text"
      },
      "source": [
        "checking above images from the neural network"
      ]
    },
    {
      "cell_type": "code",
      "metadata": {
        "id": "OgTSlfWi-KT2",
        "colab_type": "code",
        "colab": {}
      },
      "source": [
        "outputs = net(images)\n",
        "\n"
      ],
      "execution_count": 0,
      "outputs": []
    },
    {
      "cell_type": "code",
      "metadata": {
        "id": "UIzGjuzf-Pe-",
        "colab_type": "code",
        "colab": {
          "base_uri": "https://localhost:8080/",
          "height": 36
        },
        "outputId": "7711bca6-02b8-4f87-ef89-742cb347d6f8"
      },
      "source": [
        "_, predicted = torch.max(outputs, 1)\n",
        "\n",
        "print('Predicted: ', ' '.join('%5s' % classes[predicted[j]]\n",
        "                              for j in range(4)))"
      ],
      "execution_count": 23,
      "outputs": [
        {
          "output_type": "stream",
          "text": [
            "Predicted:    cat  ship  ship  ship\n"
          ],
          "name": "stdout"
        }
      ]
    },
    {
      "cell_type": "markdown",
      "metadata": {
        "id": "uIVFvE2Z--uI",
        "colab_type": "text"
      },
      "source": [
        "satisfactory results"
      ]
    },
    {
      "cell_type": "markdown",
      "metadata": {
        "id": "0r68UDPZ_XpV",
        "colab_type": "text"
      },
      "source": [
        "now checking the network on the whole dataset"
      ]
    },
    {
      "cell_type": "code",
      "metadata": {
        "id": "d4TRt01G_alX",
        "colab_type": "code",
        "colab": {
          "base_uri": "https://localhost:8080/",
          "height": 36
        },
        "outputId": "1037a647-40cc-45ba-9e8b-6fbd074d2ca0"
      },
      "source": [
        "correct = 0\n",
        "total = 0\n",
        "with torch.no_grad():\n",
        "    for data in testloader:\n",
        "        images,labels = data\n",
        "        outputs = net(images)\n",
        "        _, predicted = torch.max(outputs.data,1)\n",
        "        total += labels.size(0)\n",
        "        correct += (predicted == labels).sum().item()\n",
        "        \n",
        "print('Accuracy of the network on the 10000 test images : %d %%' % (100*correct/total))"
      ],
      "execution_count": 25,
      "outputs": [
        {
          "output_type": "stream",
          "text": [
            "Accuracy of the network on the 10000 test images : 52 %\n"
          ],
          "name": "stdout"
        }
      ]
    },
    {
      "cell_type": "markdown",
      "metadata": {
        "id": "TXhBlhuLAeQB",
        "colab_type": "text"
      },
      "source": [
        "good enough for a classification into 10 classes"
      ]
    },
    {
      "cell_type": "code",
      "metadata": {
        "id": "4XXKX-HoAljY",
        "colab_type": "code",
        "colab": {}
      },
      "source": [
        "class_correct = [0]*10\n",
        "class_total = [0]*10"
      ],
      "execution_count": 0,
      "outputs": []
    },
    {
      "cell_type": "code",
      "metadata": {
        "id": "b8WtF-WiA3Px",
        "colab_type": "code",
        "colab": {
          "base_uri": "https://localhost:8080/",
          "height": 211
        },
        "outputId": "731be3df-0490-4d6a-ddd4-44e4e21c9a46"
      },
      "source": [
        "with torch.no_grad():\n",
        "    for data in testloader:\n",
        "        images,labels = data\n",
        "        outputs = net(images)\n",
        "        _,predicted = torch.max(outputs,1)\n",
        "        c = (predicted==labels).squeeze()\n",
        "        for i in range(4):\n",
        "            label = labels[i]\n",
        "            class_correct[label] += c[i].item()\n",
        "            class_total[label] += 1\n",
        "            \n",
        "for i in range(10):\n",
        "    print(\"accuracy of %5s : %2d %%\" % (classes[i],100*class_correct[i]/class_total[i]))"
      ],
      "execution_count": 31,
      "outputs": [
        {
          "output_type": "stream",
          "text": [
            "accuracy of plane : 54 %\n",
            "accuracy of   car : 49 %\n",
            "accuracy of  bird : 53 %\n",
            "accuracy of   cat : 30 %\n",
            "accuracy of  deer : 39 %\n",
            "accuracy of   dog : 44 %\n",
            "accuracy of  frog : 75 %\n",
            "accuracy of horse : 57 %\n",
            "accuracy of  ship : 72 %\n",
            "accuracy of truck : 52 %\n"
          ],
          "name": "stdout"
        }
      ]
    },
    {
      "cell_type": "markdown",
      "metadata": {
        "id": "Pd8ys2hODNPw",
        "colab_type": "text"
      },
      "source": [
        "## using GPU "
      ]
    },
    {
      "cell_type": "code",
      "metadata": {
        "id": "MeGJt_yPDXza",
        "colab_type": "code",
        "colab": {
          "base_uri": "https://localhost:8080/",
          "height": 36
        },
        "outputId": "032b300b-ffb3-45df-dec4-c893855b8bac"
      },
      "source": [
        "device = torch.device(\"cuda:0\" if torch.cuda.is_available() else \"CPU\")\n",
        "print(device)"
      ],
      "execution_count": 39,
      "outputs": [
        {
          "output_type": "stream",
          "text": [
            "cuda:0\n"
          ],
          "name": "stdout"
        }
      ]
    },
    {
      "cell_type": "code",
      "metadata": {
        "id": "lWHNLi8SDmul",
        "colab_type": "code",
        "colab": {
          "base_uri": "https://localhost:8080/",
          "height": 192
        },
        "outputId": "fe1f87dc-76ef-4092-c8e1-f16f82b6553d"
      },
      "source": [
        "net.to(device)"
      ],
      "execution_count": 40,
      "outputs": [
        {
          "output_type": "execute_result",
          "data": {
            "text/plain": [
              "Net(\n",
              "  (conv1): Conv2d(3, 6, kernel_size=(5, 5), stride=(1, 1))\n",
              "  (pool): MaxPool2d(kernel_size=2, stride=2, padding=0, dilation=1, ceil_mode=False)\n",
              "  (conv2): Conv2d(6, 16, kernel_size=(5, 5), stride=(1, 1))\n",
              "  (fc1): Linear(in_features=400, out_features=120, bias=True)\n",
              "  (fc2): Linear(in_features=120, out_features=84, bias=True)\n",
              "  (fc3): Linear(in_features=84, out_features=10, bias=True)\n",
              ")"
            ]
          },
          "metadata": {
            "tags": []
          },
          "execution_count": 40
        }
      ]
    }
  ]
}