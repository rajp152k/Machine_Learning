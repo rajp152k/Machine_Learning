{
 "cells": [
  {
   "cell_type": "markdown",
   "metadata": {
    "colab_type": "text",
    "id": "view-in-github"
   },
   "source": [
    "<a href=\"https://colab.research.google.com/github/rajp152k/Machine_Learning/blob/master/Deep%20Learning/Learning%20Pytorch/pytor_NN.ipynb\" target=\"_parent\"><img src=\"https://colab.research.google.com/assets/colab-badge.svg\" alt=\"Open In Colab\"/></a>"
   ]
  },
  {
   "cell_type": "markdown",
   "metadata": {
    "colab_type": "text",
    "id": "YJmgq3TFrUCH"
   },
   "source": [
    "## Creating a basic Convolutional Neural Net"
   ]
  },
  {
   "cell_type": "code",
   "execution_count": 0,
   "metadata": {
    "colab": {},
    "colab_type": "code",
    "id": "jK0eviy-Lc0M"
   },
   "outputs": [],
   "source": [
    "import torch\n",
    "import torch.nn as nn\n",
    "import torch.nn.functional as F"
   ]
  },
  {
   "cell_type": "code",
   "execution_count": 0,
   "metadata": {
    "colab": {},
    "colab_type": "code",
    "id": "4qmTk9g4LtIT"
   },
   "outputs": [],
   "source": [
    "class Net(nn.Module):\n",
    "    \n",
    "    def __init__(self):\n",
    "        super(Net,self).__init__()\n",
    "        self.conv1 = nn.Conv2d(1,6,3)\n",
    "        self.conv2 = nn.Conv2d(6,16,3)\n",
    "        self.fc1 = nn.Linear(6*6*16,120)\n",
    "        self.fc2 = nn.Linear(120,84)\n",
    "        self.fc3 = nn.Linear(84,10)\n",
    "    \n",
    "    def forward(self,x):\n",
    "        print(x.size())\n",
    "        x = F.max_pool2d(F.relu(self.conv1(x)),(2,2))\n",
    "        print(x.size())\n",
    "        x = F.max_pool2d(F.relu(self.conv2(x)),(2,2))\n",
    "        print(x.size())\n",
    "        x = x.view(-1,self.no_o_flat_feats(x))\n",
    "        print(x.size())\n",
    "        x = F.relu(self.fc1(x))\n",
    "        print(x.size())\n",
    "        x = F.relu(self.fc2(x))\n",
    "        print(x.size())\n",
    "        x = self.fc3(x)\n",
    "        print(x.size())\n",
    "        return x\n",
    "       \n",
    "    def no_o_flat_feats(self,x):\n",
    "        size = x.size()[1:]#from 1 cause don't need the batch size (at index 0)\n",
    "        num_o_feats=1\n",
    "        for i in size:\n",
    "            num_o_feats*=i\n",
    "        \n",
    "        return num_o_feats"
   ]
  },
  {
   "cell_type": "code",
   "execution_count": 23,
   "metadata": {
    "colab": {
     "base_uri": "https://localhost:8080/",
     "height": 36
    },
    "colab_type": "code",
    "id": "WFJ5kiuZMuS6",
    "outputId": "8c6c2181-51e2-4d1c-d751-e9efa4f34708"
   },
   "outputs": [
    {
     "data": {
      "text/plain": [
       "True"
      ]
     },
     "execution_count": 23,
     "metadata": {
      "tags": []
     },
     "output_type": "execute_result"
    }
   ],
   "source": [
    "torch.cuda.is_available()"
   ]
  },
  {
   "cell_type": "code",
   "execution_count": 63,
   "metadata": {
    "colab": {
     "base_uri": "https://localhost:8080/",
     "height": 153
    },
    "colab_type": "code",
    "id": "Z1VsnLbqMwyh",
    "outputId": "999567fa-5a14-4f7b-e322-0041bc728257"
   },
   "outputs": [
    {
     "name": "stdout",
     "output_type": "stream",
     "text": [
      "Net(\n",
      "  (conv1): Conv2d(1, 6, kernel_size=(3, 3), stride=(1, 1))\n",
      "  (conv2): Conv2d(6, 16, kernel_size=(3, 3), stride=(1, 1))\n",
      "  (fc1): Linear(in_features=576, out_features=120, bias=True)\n",
      "  (fc2): Linear(in_features=120, out_features=84, bias=True)\n",
      "  (fc3): Linear(in_features=84, out_features=10, bias=True)\n",
      ")\n"
     ]
    }
   ],
   "source": [
    "net = Net()\n",
    "print(net)"
   ]
  },
  {
   "cell_type": "code",
   "execution_count": 0,
   "metadata": {
    "colab": {},
    "colab_type": "code",
    "id": "Uf8eqKlcRp5y"
   },
   "outputs": [],
   "source": [
    "params = list(net.parameters())"
   ]
  },
  {
   "cell_type": "code",
   "execution_count": 65,
   "metadata": {
    "colab": {
     "base_uri": "https://localhost:8080/",
     "height": 36
    },
    "colab_type": "code",
    "id": "O80ykU-KSL_T",
    "outputId": "fbcd69d2-5e9e-4eaf-f48e-a4bc90dc494b"
   },
   "outputs": [
    {
     "data": {
      "text/plain": [
       "torch.Size([6, 1, 3, 3])"
      ]
     },
     "execution_count": 65,
     "metadata": {
      "tags": []
     },
     "output_type": "execute_result"
    }
   ],
   "source": [
    "params[0].size()# no. of parameters for the Net.conv1 layer"
   ]
  },
  {
   "cell_type": "markdown",
   "metadata": {
    "colab_type": "text",
    "id": "sGwK7I7sSPAA"
   },
   "source": [
    "checking on a random 32\\*32 input   "
   ]
  },
  {
   "cell_type": "code",
   "execution_count": 0,
   "metadata": {
    "colab": {},
    "colab_type": "code",
    "id": "px04PvKrSkfF"
   },
   "outputs": [],
   "source": [
    "input  = torch.randn(1,1,32,32)\n",
    "# first index = batch size\n",
    "# second index = no. of channels in one input\n",
    "# third index = height of an input\n",
    "# fourth index = width of an input"
   ]
  },
  {
   "cell_type": "code",
   "execution_count": 73,
   "metadata": {
    "colab": {
     "base_uri": "https://localhost:8080/",
     "height": 153
    },
    "colab_type": "code",
    "id": "TDZNYLAVS_nD",
    "outputId": "f60ff85d-3bfd-429d-8f19-2830fa5bbd75"
   },
   "outputs": [
    {
     "name": "stdout",
     "output_type": "stream",
     "text": [
      "torch.Size([1, 1, 32, 32])\n",
      "torch.Size([1, 6, 15, 15])\n",
      "torch.Size([1, 16, 6, 6])\n",
      "torch.Size([1, 576])\n",
      "torch.Size([1, 120])\n",
      "torch.Size([1, 84])\n",
      "torch.Size([1, 10])\n"
     ]
    }
   ],
   "source": [
    "output = net(input)"
   ]
  },
  {
   "cell_type": "code",
   "execution_count": 74,
   "metadata": {
    "colab": {
     "base_uri": "https://localhost:8080/",
     "height": 95
    },
    "colab_type": "code",
    "id": "3djMiJSNTGPn",
    "outputId": "dd41619a-3c85-470f-82a5-f79bdf725160"
   },
   "outputs": [
    {
     "name": "stdout",
     "output_type": "stream",
     "text": [
      "tensor([[-0.0995,  0.0873, -0.0267, -0.1413, -0.1006,  0.0811, -0.1133,  0.0683,\n",
      "          0.1379, -0.1261]], grad_fn=<AddmmBackward>)\n"
     ]
    },
    {
     "data": {
      "text/plain": [
       "torch.Size([1, 10])"
      ]
     },
     "execution_count": 74,
     "metadata": {
      "tags": []
     },
     "output_type": "execute_result"
    }
   ],
   "source": [
    "print(output)\n",
    "output.size()"
   ]
  },
  {
   "cell_type": "markdown",
   "metadata": {
    "colab_type": "text",
    "id": "311-FYCGTSFB"
   },
   "source": [
    "Back propogating"
   ]
  },
  {
   "cell_type": "code",
   "execution_count": 0,
   "metadata": {
    "colab": {},
    "colab_type": "code",
    "id": "oUWfrzm-WUlz"
   },
   "outputs": [],
   "source": [
    "net.zero_grad()"
   ]
  },
  {
   "cell_type": "markdown",
   "metadata": {
    "colab_type": "text",
    "id": "irb6cP_8WjMc"
   },
   "source": [
    "defining a random target tensor for computing a loss"
   ]
  },
  {
   "cell_type": "code",
   "execution_count": 76,
   "metadata": {
    "colab": {
     "base_uri": "https://localhost:8080/",
     "height": 36
    },
    "colab_type": "code",
    "id": "3BN4sTpjYAyc",
    "outputId": "af6669ab-a440-4f74-89c7-005807da117d"
   },
   "outputs": [
    {
     "name": "stdout",
     "output_type": "stream",
     "text": [
      "tensor(0.8519, grad_fn=<MseLossBackward>)\n"
     ]
    }
   ],
   "source": [
    "target = torch.randn(1,10)\n",
    "criterion = nn.MSELoss()#read more on other types of losses\n",
    "loss = criterion(output,target)\n",
    "print(loss)"
   ]
  },
  {
   "cell_type": "code",
   "execution_count": 77,
   "metadata": {
    "colab": {
     "base_uri": "https://localhost:8080/",
     "height": 94
    },
    "colab_type": "code",
    "id": "kCTxI-YeZ6xk",
    "outputId": "b06f8a91-27f1-49c6-bb1d-b2559fdc828a"
   },
   "outputs": [
    {
     "name": "stdout",
     "output_type": "stream",
     "text": [
      "conv1.bias.grad before backward\n",
      "tensor([0., 0., 0., 0., 0., 0.])\n",
      "conv1.bias.grad after backward\n",
      "tensor([-0.0108,  0.0080, -0.0015, -0.0040, -0.0056, -0.0048])\n"
     ]
    }
   ],
   "source": [
    "net.zero_grad()\n",
    "\n",
    "print('conv1.bias.grad before backward')\n",
    "print(net.conv1.bias.grad)\n",
    "loss.backward()\n",
    "print('conv1.bias.grad after backward')\n",
    "print(net.conv1.bias.grad)"
   ]
  },
  {
   "cell_type": "markdown",
   "metadata": {
    "colab_type": "text",
    "id": "ZF52T2QiaYs0"
   },
   "source": [
    "updating the weights"
   ]
  },
  {
   "cell_type": "code",
   "execution_count": 0,
   "metadata": {
    "colab": {},
    "colab_type": "code",
    "id": "6xVVBUkYa4LY"
   },
   "outputs": [],
   "source": [
    "LR  = 0.01 # learning rate\n",
    "for f in net.parameters():\n",
    "    f.data -= (f.grad.data*LR)"
   ]
  },
  {
   "cell_type": "markdown",
   "metadata": {
    "colab_type": "text",
    "id": "gS0TsKF9a_BK"
   },
   "source": [
    " - will rarely use the basic python code as above\n",
    " - effecient optimizers exist"
   ]
  },
  {
   "cell_type": "code",
   "execution_count": 0,
   "metadata": {
    "colab": {},
    "colab_type": "code",
    "id": "A9oYZ4F4bkbO"
   },
   "outputs": [],
   "source": [
    "import torch.optim as optim \n",
    "\n",
    "optimizer = optim.SGD(net.parameters(),lr=0.01)\n",
    "#stochastic gradient descent\n",
    "\n",
    "optimizer.zero_grad() #nullify gradient buffers first"
   ]
  },
  {
   "cell_type": "code",
   "execution_count": 83,
   "metadata": {
    "colab": {
     "base_uri": "https://localhost:8080/",
     "height": 153
    },
    "colab_type": "code",
    "id": "Lzoq45mmcifr",
    "outputId": "755e540b-53e3-4e13-aba6-d9f6aefd1df6"
   },
   "outputs": [
    {
     "name": "stdout",
     "output_type": "stream",
     "text": [
      "torch.Size([1, 1, 32, 32])\n",
      "torch.Size([1, 6, 15, 15])\n",
      "torch.Size([1, 16, 6, 6])\n",
      "torch.Size([1, 576])\n",
      "torch.Size([1, 120])\n",
      "torch.Size([1, 84])\n",
      "torch.Size([1, 10])\n"
     ]
    }
   ],
   "source": [
    "input2 = torch.randn(1,1,32,32)\n",
    "output = net(input2)\n",
    "loss2 =criterion(output,target)\n",
    "\n",
    "loss2.backward()\n",
    "\n",
    "optimizer.step()"
   ]
  }
 ],
 "metadata": {
  "accelerator": "GPU",
  "colab": {
   "collapsed_sections": [],
   "include_colab_link": true,
   "name": "pytor NN.ipynb",
   "provenance": [],
   "version": "0.3.2"
  },
  "kernelspec": {
   "display_name": "Python 3",
   "language": "python",
   "name": "python3"
  },
  "language_info": {
   "codemirror_mode": {
    "name": "ipython",
    "version": 3
   },
   "file_extension": ".py",
   "mimetype": "text/x-python",
   "name": "python",
   "nbconvert_exporter": "python",
   "pygments_lexer": "ipython3",
   "version": "3.7.3"
  }
 },
 "nbformat": 4,
 "nbformat_minor": 1
}
