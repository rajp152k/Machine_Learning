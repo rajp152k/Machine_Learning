{
  "nbformat": 4,
  "nbformat_minor": 0,
  "metadata": {
    "colab": {
      "name": "pytor NN.ipynb",
      "version": "0.3.2",
      "provenance": [],
      "collapsed_sections": [],
      "include_colab_link": true
    },
    "kernelspec": {
      "name": "python3",
      "display_name": "Python 3"
    },
    "accelerator": "GPU"
  },
  "cells": [
    {
      "cell_type": "markdown",
      "metadata": {
        "id": "view-in-github",
        "colab_type": "text"
      },
      "source": [
        "<a href=\"https://colab.research.google.com/github/rajp152k/Machine_Learning/blob/master/Deep%20Learning/Learning%20Pytorch/pytor_NN.ipynb\" target=\"_parent\"><img src=\"https://colab.research.google.com/assets/colab-badge.svg\" alt=\"Open In Colab\"/></a>"
      ]
    },
    {
      "cell_type": "markdown",
      "metadata": {
        "id": "YJmgq3TFrUCH",
        "colab_type": "text"
      },
      "source": [
        "## Creating a basic Convolutional Neural Net"
      ]
    },
    {
      "cell_type": "code",
      "metadata": {
        "id": "jK0eviy-Lc0M",
        "colab_type": "code",
        "colab": {}
      },
      "source": [
        "import torch\n",
        "import torch.nn as nn\n",
        "import torch.nn.functional as F"
      ],
      "execution_count": 0,
      "outputs": []
    },
    {
      "cell_type": "code",
      "metadata": {
        "id": "4qmTk9g4LtIT",
        "colab_type": "code",
        "colab": {}
      },
      "source": [
        "class Net(nn.Module):\n",
        "    \n",
        "    def __init__(self):\n",
        "        super(Net,self).__init__()\n",
        "        self.conv1 = nn.Conv2d(1,6,3)\n",
        "        self.conv2 = nn.Conv2d(6,16,3)\n",
        "        self.fc1 = nn.Linear(6*6*16,120)\n",
        "        self.fc2 = nn.Linear(120,84)\n",
        "        self.fc3 = nn.Linear(84,10)\n",
        "    \n",
        "    def forward(self,x):\n",
        "        print(x.size())\n",
        "        x = F.max_pool2d(F.relu(self.conv1(x)),(2,2))\n",
        "        print(x.size())\n",
        "        x = F.max_pool2d(F.relu(self.conv2(x)),(2,2))\n",
        "        print(x.size())\n",
        "        x = x.view(-1,self.no_o_flat_feats(x))\n",
        "        print(x.size())\n",
        "        x = F.relu(self.fc1(x))\n",
        "        print(x.size())\n",
        "        x = F.relu(self.fc2(x))\n",
        "        print(x.size())\n",
        "        x = self.fc3(x)\n",
        "        print(x.size())\n",
        "        return x\n",
        "       \n",
        "    def no_o_flat_feats(self,x):\n",
        "        size = x.size()[1:]#from 1 cause don't need the batch size (at index 0)\n",
        "        num_o_feats=1\n",
        "        for i in size:\n",
        "            num_o_feats*=i\n",
        "        \n",
        "        return num_o_feats"
      ],
      "execution_count": 0,
      "outputs": []
    },
    {
      "cell_type": "code",
      "metadata": {
        "id": "WFJ5kiuZMuS6",
        "colab_type": "code",
        "colab": {
          "base_uri": "https://localhost:8080/",
          "height": 36
        },
        "outputId": "8c6c2181-51e2-4d1c-d751-e9efa4f34708"
      },
      "source": [
        "torch.cuda.is_available()"
      ],
      "execution_count": 23,
      "outputs": [
        {
          "output_type": "execute_result",
          "data": {
            "text/plain": [
              "True"
            ]
          },
          "metadata": {
            "tags": []
          },
          "execution_count": 23
        }
      ]
    },
    {
      "cell_type": "code",
      "metadata": {
        "id": "Z1VsnLbqMwyh",
        "colab_type": "code",
        "colab": {
          "base_uri": "https://localhost:8080/",
          "height": 153
        },
        "outputId": "999567fa-5a14-4f7b-e322-0041bc728257"
      },
      "source": [
        "net = Net()\n",
        "print(net)"
      ],
      "execution_count": 63,
      "outputs": [
        {
          "output_type": "stream",
          "text": [
            "Net(\n",
            "  (conv1): Conv2d(1, 6, kernel_size=(3, 3), stride=(1, 1))\n",
            "  (conv2): Conv2d(6, 16, kernel_size=(3, 3), stride=(1, 1))\n",
            "  (fc1): Linear(in_features=576, out_features=120, bias=True)\n",
            "  (fc2): Linear(in_features=120, out_features=84, bias=True)\n",
            "  (fc3): Linear(in_features=84, out_features=10, bias=True)\n",
            ")\n"
          ],
          "name": "stdout"
        }
      ]
    },
    {
      "cell_type": "code",
      "metadata": {
        "id": "Uf8eqKlcRp5y",
        "colab_type": "code",
        "colab": {}
      },
      "source": [
        "params = list(net.parameters())"
      ],
      "execution_count": 0,
      "outputs": []
    },
    {
      "cell_type": "code",
      "metadata": {
        "id": "O80ykU-KSL_T",
        "colab_type": "code",
        "colab": {
          "base_uri": "https://localhost:8080/",
          "height": 36
        },
        "outputId": "fbcd69d2-5e9e-4eaf-f48e-a4bc90dc494b"
      },
      "source": [
        "params[0].size()# no. of parameters for the Net.conv1 layer"
      ],
      "execution_count": 65,
      "outputs": [
        {
          "output_type": "execute_result",
          "data": {
            "text/plain": [
              "torch.Size([6, 1, 3, 3])"
            ]
          },
          "metadata": {
            "tags": []
          },
          "execution_count": 65
        }
      ]
    },
    {
      "cell_type": "markdown",
      "metadata": {
        "id": "sGwK7I7sSPAA",
        "colab_type": "text"
      },
      "source": [
        "checking on a random 32\\*32 input   "
      ]
    },
    {
      "cell_type": "code",
      "metadata": {
        "id": "px04PvKrSkfF",
        "colab_type": "code",
        "colab": {}
      },
      "source": [
        "input  = torch.randn(1,1,32,32)\n",
        "# first index = batch size\n",
        "# second index = no. of channels in one input\n",
        "# third index = height of an input\n",
        "# fourth index = width of an input"
      ],
      "execution_count": 0,
      "outputs": []
    },
    {
      "cell_type": "code",
      "metadata": {
        "id": "TDZNYLAVS_nD",
        "colab_type": "code",
        "colab": {
          "base_uri": "https://localhost:8080/",
          "height": 153
        },
        "outputId": "f60ff85d-3bfd-429d-8f19-2830fa5bbd75"
      },
      "source": [
        "output = net(input)"
      ],
      "execution_count": 73,
      "outputs": [
        {
          "output_type": "stream",
          "text": [
            "torch.Size([1, 1, 32, 32])\n",
            "torch.Size([1, 6, 15, 15])\n",
            "torch.Size([1, 16, 6, 6])\n",
            "torch.Size([1, 576])\n",
            "torch.Size([1, 120])\n",
            "torch.Size([1, 84])\n",
            "torch.Size([1, 10])\n"
          ],
          "name": "stdout"
        }
      ]
    },
    {
      "cell_type": "code",
      "metadata": {
        "id": "3djMiJSNTGPn",
        "colab_type": "code",
        "colab": {
          "base_uri": "https://localhost:8080/",
          "height": 95
        },
        "outputId": "dd41619a-3c85-470f-82a5-f79bdf725160"
      },
      "source": [
        "print(output)\n",
        "output.size()"
      ],
      "execution_count": 74,
      "outputs": [
        {
          "output_type": "stream",
          "text": [
            "tensor([[-0.0995,  0.0873, -0.0267, -0.1413, -0.1006,  0.0811, -0.1133,  0.0683,\n",
            "          0.1379, -0.1261]], grad_fn=<AddmmBackward>)\n"
          ],
          "name": "stdout"
        },
        {
          "output_type": "execute_result",
          "data": {
            "text/plain": [
              "torch.Size([1, 10])"
            ]
          },
          "metadata": {
            "tags": []
          },
          "execution_count": 74
        }
      ]
    },
    {
      "cell_type": "markdown",
      "metadata": {
        "id": "311-FYCGTSFB",
        "colab_type": "text"
      },
      "source": [
        "Back propogating"
      ]
    },
    {
      "cell_type": "code",
      "metadata": {
        "id": "oUWfrzm-WUlz",
        "colab_type": "code",
        "colab": {}
      },
      "source": [
        "net.zero_grad()"
      ],
      "execution_count": 0,
      "outputs": []
    },
    {
      "cell_type": "markdown",
      "metadata": {
        "id": "irb6cP_8WjMc",
        "colab_type": "text"
      },
      "source": [
        "defining a random target tensor for computing a loss"
      ]
    },
    {
      "cell_type": "code",
      "metadata": {
        "id": "3BN4sTpjYAyc",
        "colab_type": "code",
        "colab": {
          "base_uri": "https://localhost:8080/",
          "height": 36
        },
        "outputId": "af6669ab-a440-4f74-89c7-005807da117d"
      },
      "source": [
        "target = torch.randn(1,10)\n",
        "criterion = nn.MSELoss()#read more on other types of losses\n",
        "loss = criterion(output,target)\n",
        "print(loss)"
      ],
      "execution_count": 76,
      "outputs": [
        {
          "output_type": "stream",
          "text": [
            "tensor(0.8519, grad_fn=<MseLossBackward>)\n"
          ],
          "name": "stdout"
        }
      ]
    },
    {
      "cell_type": "code",
      "metadata": {
        "id": "kCTxI-YeZ6xk",
        "colab_type": "code",
        "colab": {
          "base_uri": "https://localhost:8080/",
          "height": 94
        },
        "outputId": "b06f8a91-27f1-49c6-bb1d-b2559fdc828a"
      },
      "source": [
        "net.zero_grad()\n",
        "\n",
        "print('conv1.bias.grad before backward')\n",
        "print(net.conv1.bias.grad)\n",
        "loss.backward()\n",
        "print('conv1.bias.grad after backward')\n",
        "print(net.conv1.bias.grad)"
      ],
      "execution_count": 77,
      "outputs": [
        {
          "output_type": "stream",
          "text": [
            "conv1.bias.grad before backward\n",
            "tensor([0., 0., 0., 0., 0., 0.])\n",
            "conv1.bias.grad after backward\n",
            "tensor([-0.0108,  0.0080, -0.0015, -0.0040, -0.0056, -0.0048])\n"
          ],
          "name": "stdout"
        }
      ]
    },
    {
      "cell_type": "markdown",
      "metadata": {
        "id": "ZF52T2QiaYs0",
        "colab_type": "text"
      },
      "source": [
        "updating the weights"
      ]
    },
    {
      "cell_type": "code",
      "metadata": {
        "id": "6xVVBUkYa4LY",
        "colab_type": "code",
        "colab": {}
      },
      "source": [
        "LR  = 0.01 # learning rate\n",
        "for f in net.parameters():\n",
        "    f.data -= (f.grad.data*LR)"
      ],
      "execution_count": 0,
      "outputs": []
    },
    {
      "cell_type": "markdown",
      "metadata": {
        "id": "gS0TsKF9a_BK",
        "colab_type": "text"
      },
      "source": [
        " - will rarely use the basic python code as above\n",
        " - effecient optimizers exist"
      ]
    },
    {
      "cell_type": "code",
      "metadata": {
        "id": "A9oYZ4F4bkbO",
        "colab_type": "code",
        "colab": {}
      },
      "source": [
        "import torch.optim as optim \n",
        "\n",
        "optimizer = optim.SGD(net.parameters(),lr=0.01)\n",
        "#stochastic gradient descent\n",
        "\n",
        "optimizer.zero_grad() #nullify gradient buffers first"
      ],
      "execution_count": 0,
      "outputs": []
    },
    {
      "cell_type": "code",
      "metadata": {
        "id": "Lzoq45mmcifr",
        "colab_type": "code",
        "colab": {
          "base_uri": "https://localhost:8080/",
          "height": 153
        },
        "outputId": "755e540b-53e3-4e13-aba6-d9f6aefd1df6"
      },
      "source": [
        "input2 = torch.randn(1,1,32,32)\n",
        "output = net(input2)\n",
        "loss2 =criterion(output,target)\n",
        "\n",
        "loss2.backward()\n",
        "\n",
        "optimizer.step()"
      ],
      "execution_count": 83,
      "outputs": [
        {
          "output_type": "stream",
          "text": [
            "torch.Size([1, 1, 32, 32])\n",
            "torch.Size([1, 6, 15, 15])\n",
            "torch.Size([1, 16, 6, 6])\n",
            "torch.Size([1, 576])\n",
            "torch.Size([1, 120])\n",
            "torch.Size([1, 84])\n",
            "torch.Size([1, 10])\n"
          ],
          "name": "stdout"
        }
      ]
    }
  ]
}