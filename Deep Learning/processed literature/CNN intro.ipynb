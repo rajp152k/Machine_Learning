{
 "cells": [
  {
   "cell_type": "markdown",
   "metadata": {},
   "source": [
    "## Introduction to convolutional neural networks\n",
    "\n",
    "###### <a href = \"https://pdfs.semanticscholar.org/450c/a19932fcef1ca6d0442cbf52fec38fb9d1e5.pdf\"> hyperlink to the literature </a>"
   ]
  },
  {
   "cell_type": "markdown",
   "metadata": {},
   "source": [
    "the above stated literature contains the math behind CNN and doesn't focus on the implementation "
   ]
  },
  {
   "cell_type": "markdown",
   "metadata": {},
   "source": [
    "skimmed some math and skipped some literature, intention was to get hold of the basics formally\n",
    "and get some implementation insight at the same time"
   ]
  },
  {
   "cell_type": "markdown",
   "metadata": {},
   "source": [
    "CNN has many applications; focusing on image classification here"
   ]
  },
  {
   "cell_type": "markdown",
   "metadata": {},
   "source": [
    "#### CNN Architechture"
   ]
  },
  {
   "cell_type": "markdown",
   "metadata": {},
   "source": [
    "input is a tensor of order 3 for coloured images and of 2 for grayscale ones\n"
   ]
  },
  {
   "cell_type": "markdown",
   "metadata": {},
   "source": [
    "One processing step corresponds to a layer.<br>\n",
    "kinds:-<br>\n",
    " - Convolutional layer\n",
    " - Pooling layer\n",
    " - normalization layer\n",
    " - fully connected layer\n",
    " - loss layer(only needed when back-propogating and not during predictions)\n",
    " <br>\n",
    "\n",
    "and so on.<br>\n",
    "discussed in detail later down the road"
   ]
  },
  {
   "cell_type": "markdown",
   "metadata": {},
   "source": [
    "#### Stochastic Gradient Descent "
   ]
  },
  {
   "cell_type": "markdown",
   "metadata": {},
   "source": [
    "for a given parameter layer of the CNN  $w^i$, it's updated at the end of every epoch represented by the following equation:-\n",
    "$$  {(w^i)}^{t+1} = {(w^i)}^{t} - \\eta \\frac{\\partial z}{\\partial {(w^i)}^t}$$"
   ]
  },
  {
   "cell_type": "markdown",
   "metadata": {},
   "source": [
    "1. $t$ represents the current epoch(we're at its end)<br>\n",
    "2. $z$ is the Loss function(cross entropy loss for classification(usually) and mean square loss for regression)<br>\n",
    "3. $(w^i)$ represents the $i^{th}$ parameter layer<br>\n",
    "4. $\\eta$ is usually set to a small number and ensures that we update the weight tensor by only a small extent(termed as the learning rate)\n",
    "5. we have a negative sign because we want to update the parameters in the opposite direction of the current gradient ($\\eta$ is positive)\n"
   ]
  },
  {
   "cell_type": "markdown",
   "metadata": {},
   "source": [
    "continue to have epochs until we don't risk overfitting and the loss function has been sufficiently decremented"
   ]
  },
  {
   "cell_type": "markdown",
   "metadata": {},
   "source": [
    "updating the parameters using the gradient estimated from a (usually) small subset of training examples is called *SGD*"
   ]
  },
  {
   "cell_type": "markdown",
   "metadata": {},
   "source": [
    "SGD uses small subsets but when we use all the training samples of an epoch when descending, it can be computationally intensive.<br>\n",
    "So, finding middle ground, we use mini-batch processing where we usually use 32 or 64 samples as a mini-batch<br>\n",
    "if we used smaller batches, the loss function would fluctuate when we reach the configuration corresponding to $argmin\\ z$ "
   ]
  },
  {
   "cell_type": "markdown",
   "metadata": {},
   "source": [
    "when using mini-batch processing with say 32 samples, the input of the CNN will be a 4 order tensor (H x W x 3 x 32)<br> H:- height of the image <br> W:- width of the image"
   ]
  },
  {
   "cell_type": "markdown",
   "metadata": {},
   "source": [
    "#### Error Back Propogation "
   ]
  },
  {
   "cell_type": "markdown",
   "metadata": {},
   "source": [
    "associated with each layer, we can calculate two sets of gradients of the loss function z:-\n",
    "$$\\frac{\\partial z}{\\partial {x^i}}$$ \n",
    "$$\\frac{\\partial z}{\\partial {w^i}}$$ \n",
    " \n",
    " \n",
    "the first one is used to update the parameters of the ${i-1}^{th}$ layer($x_i$ is the input of the current parameter box)<br> \n",
    "and the second one for update the current layers parameters\n"
   ]
  },
  {
   "cell_type": "markdown",
   "metadata": {},
   "source": [
    "#### ReLU(Rectified Linear Unit) Layer "
   ]
  },
  {
   "cell_type": "markdown",
   "metadata": {},
   "source": [
    "summary :- <br>\n",
    "input: ${x^l}_{i,j,d}$\n",
    "<br>here the input is a tensor of order 3 and dimensions HxWxD, mini-batch processing is not considered now<br>\n",
    "output: $$ y_{i,j,d} = {x^{l+1}}_{i,j,d} = max(0,{x^l}_{i,j,d})$$"
   ]
  },
  {
   "cell_type": "markdown",
   "metadata": {},
   "source": [
    "The ReLU is a parameterless layer"
   ]
  },
  {
   "cell_type": "markdown",
   "metadata": {},
   "source": [
    "The basic purpose of ReLU is to increase the non-linearity of the CNN\n"
   ]
  },
  {
   "cell_type": "markdown",
   "metadata": {},
   "source": [
    "#### The convolution layer "
   ]
  },
  {
   "cell_type": "markdown",
   "metadata": {},
   "source": [
    "some concepts:-\n",
    "1. stride (if stride = s, convolutional kernel is applied skipping s-1 pixel locations in the input layer)\n",
    "2. padding(to make the spatial span of the output tensor of the convolutional layer to be a square) "
   ]
  },
  {
   "cell_type": "markdown",
   "metadata": {},
   "source": [
    "examples of kernels:-\n",
    " - Sobel operators(horizontal and vertical edge detectors)\n"
   ]
  },
  {
   "cell_type": "markdown",
   "metadata": {},
   "source": [
    "ReLU is the next layer which introduces non-linearity to the convolved output and emphasizes the features under study"
   ]
  },
  {
   "cell_type": "markdown",
   "metadata": {},
   "source": [
    "over time, Stochastic gradient descent will also update the kinds of kernels used to enhance the more effective features (example:- edges at a certain angle)"
   ]
  },
  {
   "cell_type": "markdown",
   "metadata": {},
   "source": [
    "Objective of convolutional layers\n",
    " - enhances the image semantically and allows in detecting features easily as they are emphasized by different types of kernels\n",
    " - all the spatial location share the same convolutional kernel hence reducing the number of parameters to be maintained and updated during stochastic gradient descent (call this parameter sharing)"
   ]
  },
  {
   "cell_type": "markdown",
   "metadata": {},
   "source": [
    "For speeding up convolution, instead of looping through the input tensor, we use a function called as im2col() to convert the input tensor so that the same output can be obtained using  matrix multiplication.\n",
    "This way we can take advantage of the already speeded up libraries present for matrix multiplication.\n",
    "<br><br>\n",
    "    first we use im2col() on the input tensor, followed by vectorisizing the kernel followed by matrix multiplication for each of the channel which outputs a spatially vectorized version of the output tensor\n",
    " "
   ]
  },
  {
   "cell_type": "markdown",
   "metadata": {},
   "source": [
    "then we can obtain the desired output tensor by reshaping this vectorised entity properly and now we have an efficient way to convolve kernels with input tensors via matrix multiplication"
   ]
  },
  {
   "cell_type": "markdown",
   "metadata": {},
   "source": [
    "The following Layers are already understood and are just mentioned for the sake of completeness"
   ]
  },
  {
   "cell_type": "markdown",
   "metadata": {},
   "source": [
    " - Fully connected layer(an ANN taking in the final vectorised tensor of a convolution layer (after some intermediate layers) as its input vector) \n",
    " - Pooling Layer(summarizes the data contained in the input tensor )"
   ]
  }
 ],
 "metadata": {
  "kernelspec": {
   "display_name": "Python 3",
   "language": "python",
   "name": "python3"
  },
  "language_info": {
   "codemirror_mode": {
    "name": "ipython",
    "version": 3
   },
   "file_extension": ".py",
   "mimetype": "text/x-python",
   "name": "python",
   "nbconvert_exporter": "python",
   "pygments_lexer": "ipython3",
   "version": "3.7.1"
  }
 },
 "nbformat": 4,
 "nbformat_minor": 2
}
