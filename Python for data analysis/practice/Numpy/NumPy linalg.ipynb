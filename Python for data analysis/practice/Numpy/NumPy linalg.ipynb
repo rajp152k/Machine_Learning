{
 "cells": [
  {
   "cell_type": "code",
   "execution_count": 1,
   "metadata": {},
   "outputs": [],
   "source": [
    "import numpy as np\n",
    "x = np.random.randn(3,3)\n",
    "y = np.random.randn(3,3)"
   ]
  },
  {
   "cell_type": "code",
   "execution_count": 2,
   "metadata": {},
   "outputs": [
    {
     "data": {
      "text/plain": [
       "array([[-1.067751  , -0.88634254, -1.48398097],\n",
       "       [-1.12478013, -1.15116268, -0.55696477],\n",
       "       [-2.28566386, -2.19731754, -2.42695773]])"
      ]
     },
     "execution_count": 2,
     "metadata": {},
     "output_type": "execute_result"
    }
   ],
   "source": [
    "np.dot(x,y)"
   ]
  },
  {
   "cell_type": "code",
   "execution_count": 4,
   "metadata": {},
   "outputs": [
    {
     "data": {
      "text/plain": [
       "array([[-1.067751  , -0.88634254, -1.48398097],\n",
       "       [-1.12478013, -1.15116268, -0.55696477],\n",
       "       [-2.28566386, -2.19731754, -2.42695773]])"
      ]
     },
     "execution_count": 4,
     "metadata": {},
     "output_type": "execute_result"
    }
   ],
   "source": [
    "x@y\n",
    "#similar to np.dot()"
   ]
  },
  {
   "cell_type": "code",
   "execution_count": 5,
   "metadata": {},
   "outputs": [],
   "source": [
    "from numpy.linalg import inv,qr"
   ]
  },
  {
   "cell_type": "code",
   "execution_count": 6,
   "metadata": {},
   "outputs": [],
   "source": [
    "x = np.random.randn(5,5)"
   ]
  },
  {
   "cell_type": "code",
   "execution_count": 7,
   "metadata": {},
   "outputs": [],
   "source": [
    "mat = np.dot(x.T,x)"
   ]
  },
  {
   "cell_type": "code",
   "execution_count": 14,
   "metadata": {},
   "outputs": [],
   "source": [
    "ans = np.array(np.dot(mat,inv(mat))"
   ]
  },
  {
   "cell_type": "code",
   "execution_count": 16,
   "metadata": {},
   "outputs": [
    {
     "data": {
      "text/plain": [
       "array([[ 1.00000000e+00,  2.15532264e-17,  1.09524888e-16,\n",
       "         3.42345437e-17, -1.24896778e-16],\n",
       "       [-8.91542267e-17,  1.00000000e+00, -3.38873712e-15,\n",
       "         9.24706763e-16,  3.77721820e-15],\n",
       "       [-4.39058198e-17, -2.12840581e-16,  1.00000000e+00,\n",
       "        -3.34968751e-16,  8.08200750e-16],\n",
       "       [ 5.64637085e-17, -3.65087256e-16, -1.13739347e-15,\n",
       "         1.00000000e+00, -3.51894328e-15],\n",
       "       [ 3.52201805e-17, -3.20026257e-17, -6.43572487e-16,\n",
       "         3.46345177e-16,  1.00000000e+00]])"
      ]
     },
     "execution_count": 16,
     "metadata": {},
     "output_type": "execute_result"
    }
   ],
   "source": [
    "ans"
   ]
  },
  {
   "cell_type": "code",
   "execution_count": 31,
   "metadata": {
    "scrolled": true
   },
   "outputs": [
    {
     "data": {
      "text/plain": [
       "array([[-0.13303703],\n",
       "       [-0.24529856],\n",
       "       [-0.29469247],\n",
       "       [-0.39613598],\n",
       "       [ 0.16225913]])"
      ]
     },
     "execution_count": 31,
     "metadata": {},
     "output_type": "execute_result"
    }
   ],
   "source": [
    "x = np.random.randn(5,5);y = np.random.randn(5,1)\n",
    "np.linalg.solve(x,y)"
   ]
  },
  {
   "cell_type": "code",
   "execution_count": 32,
   "metadata": {},
   "outputs": [
    {
     "name": "stderr",
     "output_type": "stream",
     "text": [
      "C:\\ProgramData\\Anaconda3\\lib\\site-packages\\ipykernel_launcher.py:1: FutureWarning: `rcond` parameter will change to the default of machine precision times ``max(M, N)`` where M and N are the input matrix dimensions.\n",
      "To use the future default and silence this warning we advise to pass `rcond=None`, to keep using the old, explicitly pass `rcond=-1`.\n",
      "  \"\"\"Entry point for launching an IPython kernel.\n"
     ]
    },
    {
     "data": {
      "text/plain": [
       "(array([[-0.13303703],\n",
       "        [-0.24529856],\n",
       "        [-0.29469247],\n",
       "        [-0.39613598],\n",
       "        [ 0.16225913]]),\n",
       " array([], dtype=float64),\n",
       " 5,\n",
       " array([3.56196434, 2.91707932, 2.65438084, 0.8395099 , 0.67283584]))"
      ]
     },
     "execution_count": 32,
     "metadata": {},
     "output_type": "execute_result"
    }
   ],
   "source": [
    "np.linalg.lstsq(x,y)"
   ]
  },
  {
   "cell_type": "code",
   "execution_count": null,
   "metadata": {},
   "outputs": [],
   "source": []
  }
 ],
 "metadata": {
  "kernelspec": {
   "display_name": "Python 3",
   "language": "python",
   "name": "python3"
  },
  "language_info": {
   "codemirror_mode": {
    "name": "ipython",
    "version": 3
   },
   "file_extension": ".py",
   "mimetype": "text/x-python",
   "name": "python",
   "nbconvert_exporter": "python",
   "pygments_lexer": "ipython3",
   "version": "3.7.1"
  }
 },
 "nbformat": 4,
 "nbformat_minor": 2
}
